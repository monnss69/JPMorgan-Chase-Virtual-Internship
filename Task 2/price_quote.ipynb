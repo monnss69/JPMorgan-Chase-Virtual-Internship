{
 "cells": [
  {
   "cell_type": "markdown",
   "metadata": {},
   "source": [
    "# Pricing Model for Client\n",
    "\n",
    "### Set up the parameters"
   ]
  },
  {
   "cell_type": "code",
   "execution_count": 1,
   "metadata": {},
   "outputs": [],
   "source": [
    "import numpy as np\n",
    "import pandas as pd\n",
    "\n",
    "# For data visualization\n",
    "import matplotlib.pyplot as plt\n",
    "\n",
    "# For date handling\n",
    "from datetime import datetime"
   ]
  },
  {
   "cell_type": "markdown",
   "metadata": {},
   "source": [
    "### This is the sample date and params"
   ]
  },
  {
   "cell_type": "code",
   "execution_count": 2,
   "metadata": {},
   "outputs": [],
   "source": [
    "inject_rate = 1e-1\n",
    "withdraw_rate = 1e-1 # dollar per MMBtu\n",
    "injection_date = {'10-31-2020': 100000, '01-31-2022': 20000} # Dictionary with key is date and value is MMBtu injecting\n",
    "withdraw_date = {'06-30-2021': 50000, '11-30-2021': 50000} # Dictionary with key is date and value is MMBtu withdrawing\n",
    "maximum_storage = 1e6 # MMBtu\n",
    "storage_cost = 3e-2 # dollar per MMbtu per month"
   ]
  },
  {
   "cell_type": "markdown",
   "metadata": {},
   "source": [
    "### Step 1: Create a dictionary to lookup price based on the forecast output last task"
   ]
  },
  {
   "cell_type": "code",
   "execution_count": 3,
   "metadata": {},
   "outputs": [],
   "source": [
    "df = pd.read_csv(\"forecast_output.csv\") # forecast ouput is the predicted gas price we made in Task 1\n",
    "\n",
    "\n",
    "def create_price_lookup(df):\n",
    "    price_dict = {}\n",
    "\n",
    "    for date, price in zip(df['Dates'], df['Prices']):\n",
    "        # Convert the date string to datetime object using the same format as date_sorting\n",
    "        datetime_key = datetime.strptime(date, \"%m-%d-%Y\")\n",
    "        price_dict[datetime_key] = price\n",
    "    \n",
    "    # Sort the dictionary by date to maintain consistency with date_sorting\n",
    "    return price_dict\n",
    "\n",
    "price_lookup = create_price_lookup(df)"
   ]
  },
  {
   "cell_type": "markdown",
   "metadata": {},
   "source": [
    "### Step 2: Verify valid data & Create a transaction history\n",
    "\n",
    "We verify the data to see if it is valid. Then for each injection/withdrawal happened, save it in a `transaction_history`\n",
    "The meaning of storing it is for easier cost calculation in the future. After validate the information, we will also create a `storage_history` to remember the total storage after each transaction. This is for calculating storage cost."
   ]
  },
  {
   "cell_type": "code",
   "execution_count": 5,
   "metadata": {},
   "outputs": [
    {
     "name": "stdout",
     "output_type": "stream",
     "text": [
      "Information is valid\n",
      "Storage history:  {datetime.datetime(2020, 10, 31, 0, 0): 100000, datetime.datetime(2021, 6, 30, 0, 0): 50000, datetime.datetime(2021, 11, 30, 0, 0): 0, datetime.datetime(2022, 1, 31, 0, 0): 20000}\n"
     ]
    }
   ],
   "source": [
    "def date_sorting(injection_date, withdraw_date):\n",
    "    combined_dict = {}\n",
    "\n",
    "    for date, value in injection_date.items():\n",
    "        combined_dict[datetime.strptime(date, \"%m-%d-%Y\")] = value\n",
    "\n",
    "    # Add withdrawal dates (negative values)\n",
    "    for date, value in withdraw_date.items():\n",
    "        combined_dict[datetime.strptime(date, \"%m-%d-%Y\")] = -value\n",
    "    \n",
    "    # Sort the dictionary by date\n",
    "    sorted_dict = dict(sorted(combined_dict.items(), key=lambda item: item[0]))\n",
    "\n",
    "    return sorted_dict\n",
    "\n",
    "transaction_history = date_sorting(injection_date, withdraw_date)\n",
    "\n",
    "def validate_information(injection_date, withdraw_date, maximum_storage):\n",
    "    current_storage = 0\n",
    "    storage_history = {}\n",
    "    valid = True\n",
    "\n",
    "    for date, value in date_sorting(injection_date, withdraw_date).items():\n",
    "        current_storage += value\n",
    "\n",
    "        if current_storage > maximum_storage:\n",
    "            raise ValueError(\"Storage capacity exceeded at date: \" + date)\n",
    "\n",
    "        if current_storage < 0:\n",
    "            raise ValueError(\"Storage capacity is negative at date: \" + date)\n",
    "        \n",
    "        storage_history.update({date: current_storage})\n",
    "    \n",
    "    return storage_history, valid\n",
    "\n",
    "storage_history, valid = validate_information(injection_date, withdraw_date, maximum_storage)\n",
    "if valid:\n",
    "    print(\"Information is valid\")\n",
    "    print(\"Storage history: \", storage_history)"
   ]
  },
  {
   "cell_type": "markdown",
   "metadata": {},
   "source": [
    "### Step 3: Calculate storage cost at each time\n",
    "\n",
    "After having the `storage_history`, we calculate the storage cost at each time in the history to further calculate the total cost."
   ]
  },
  {
   "cell_type": "code",
   "execution_count": 6,
   "metadata": {},
   "outputs": [
    {
     "name": "stdout",
     "output_type": "stream",
     "text": [
      "Storage cost history:  {datetime.datetime(2020, 10, 31, 0, 0): 3000.0, datetime.datetime(2021, 6, 30, 0, 0): 1500.0, datetime.datetime(2021, 11, 30, 0, 0): 0.0, datetime.datetime(2022, 1, 31, 0, 0): 600.0}\n"
     ]
    }
   ],
   "source": [
    "def storage_cost_history(storage_history, storage_cost):\n",
    "    storage_cost_history = {}\n",
    "\n",
    "    for date, storage in storage_history.items():\n",
    "        storage_cost_history[date] = storage * storage_cost\n",
    "\n",
    "    return storage_cost_history\n",
    "\n",
    "storage_cost_history = storage_cost_history(storage_history, storage_cost)\n",
    "print(\"Storage cost history: \", storage_cost_history)"
   ]
  },
  {
   "cell_type": "markdown",
   "metadata": {},
   "source": [
    "Here we calculate the total cost and store it in `total_storage_cost`"
   ]
  },
  {
   "cell_type": "code",
   "execution_count": 8,
   "metadata": {},
   "outputs": [
    {
     "name": "stdout",
     "output_type": "stream",
     "text": [
      "Total storage cost:  31500.0\n"
     ]
    }
   ],
   "source": [
    "def calculate_total_storage_cost(storage_cost_history):\n",
    "    total_cost = 0\n",
    "\n",
    "    date = list(storage_cost_history.keys())\n",
    "\n",
    "    for i in range(len(date) - 1):\n",
    "        current_date = date[i]\n",
    "        next_date = date[i + 1]\n",
    "        monthly_cost = storage_cost_history[current_date]\n",
    "\n",
    "        storage_duration = (next_date.year - current_date.year) * 12 + (next_date.month - current_date.month)\n",
    "\n",
    "        total_cost += monthly_cost * storage_duration\n",
    "    \n",
    "    return total_cost\n",
    "\n",
    "total_storage_cost = calculate_total_storage_cost(storage_cost_history)\n",
    "print(\"Total storage cost: \", total_storage_cost)"
   ]
  },
  {
   "cell_type": "markdown",
   "metadata": {},
   "source": [
    "### Step 4: Calculate injection and withdrawal cost\n",
    "\n",
    "Based on the `transaction_history` and `inject_rate`.`withdraw_rate`. We calculate the total cost we will use for injection and withdrawal. Computing this value separately brought us spaces for improvements when the inject and withdraw rate is not constant."
   ]
  },
  {
   "cell_type": "code",
   "execution_count": 10,
   "metadata": {},
   "outputs": [
    {
     "name": "stdout",
     "output_type": "stream",
     "text": [
      "Injection and withdrawal cost:  22000.0\n"
     ]
    }
   ],
   "source": [
    "def calculate_inject_withdraw_cost(injection_date, withdraw_date, inject_rate, withdraw_rate):\n",
    "    total_cost = 0\n",
    "\n",
    "    for date, value in date_sorting(injection_date, withdraw_date).items():\n",
    "        if value > 0:\n",
    "            total_cost += value * inject_rate\n",
    "        else:\n",
    "            total_cost += -value * withdraw_rate\n",
    "\n",
    "    return total_cost\n",
    "\n",
    "inject_withdraw_cost = calculate_inject_withdraw_cost(injection_date, withdraw_date, inject_rate, withdraw_rate)\n",
    "print(\"Injection and withdrawal cost: \", inject_withdraw_cost)"
   ]
  },
  {
   "cell_type": "markdown",
   "metadata": {},
   "source": [
    "### Step 5: Calculate gross profit\n",
    "\n",
    "Calculate the gross profit we got from trading, not taking in consideration any cost such as storage, inject or withdraw cost."
   ]
  },
  {
   "cell_type": "code",
   "execution_count": 11,
   "metadata": {},
   "outputs": [
    {
     "name": "stdout",
     "output_type": "stream",
     "text": [
      "Gross profit:  -2269500.0\n"
     ]
    }
   ],
   "source": [
    "def calculate_gross_profit(price_lookup, transaction_history):\n",
    "    gross_profit = 0\n",
    "\n",
    "    for date, value in transaction_history.items():\n",
    "        price = price_lookup[date]\n",
    "\n",
    "        if value > 0:\n",
    "            gross_profit -= value * price\n",
    "        else:\n",
    "            gross_profit += value * price\n",
    "\n",
    "    return gross_profit\n",
    "\n",
    "gross_profit = calculate_gross_profit(price_lookup, transaction_history)\n",
    "print(\"Gross profit: \", gross_profit)"
   ]
  },
  {
   "cell_type": "markdown",
   "metadata": {},
   "source": [
    "### Final: Compute the net profit of our strategy"
   ]
  },
  {
   "cell_type": "code",
   "execution_count": 12,
   "metadata": {},
   "outputs": [
    {
     "name": "stdout",
     "output_type": "stream",
     "text": [
      "Net profit:  -2323000.0\n"
     ]
    }
   ],
   "source": [
    "net_profit = gross_profit - total_storage_cost - inject_withdraw_cost\n",
    "print(\"Net profit: \", net_profit)"
   ]
  }
 ],
 "metadata": {
  "kernelspec": {
   "display_name": "Python 3",
   "language": "python",
   "name": "python3"
  },
  "language_info": {
   "codemirror_mode": {
    "name": "ipython",
    "version": 3
   },
   "file_extension": ".py",
   "mimetype": "text/x-python",
   "name": "python",
   "nbconvert_exporter": "python",
   "pygments_lexer": "ipython3",
   "version": "3.12.8"
  }
 },
 "nbformat": 4,
 "nbformat_minor": 2
}
