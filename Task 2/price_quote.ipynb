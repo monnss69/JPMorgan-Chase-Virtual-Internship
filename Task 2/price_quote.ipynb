{
 "cells": [
  {
   "cell_type": "markdown",
   "metadata": {},
   "source": [
    "# Pricing Model for Client\n",
    "\n",
    "### Set up the parameters"
   ]
  },
  {
   "cell_type": "code",
   "execution_count": 3,
   "metadata": {},
   "outputs": [],
   "source": [
    "import numpy as np\n",
    "import pandas as pd\n",
    "\n",
    "# For data visualization\n",
    "import matplotlib.pyplot as plt\n",
    "\n",
    "# For date handling\n",
    "from datetime import datetime, timedelta"
   ]
  },
  {
   "cell_type": "code",
   "execution_count": 4,
   "metadata": {},
   "outputs": [],
   "source": [
    "inject_rate = 1e-1\n",
    "withdraw_rate = 1e-1 # dollar per MMBtu\n",
    "injection_date = ['10-31-2020', '01-31-2022']\n",
    "withdraw_date = ['06-30-2021', '11-30-2021']\n",
    "maximum_storage = 1e6 # MMBtu\n",
    "storage_cost = 3e3 # dollar per day (90k per month)"
   ]
  },
  {
   "cell_type": "code",
   "execution_count": 7,
   "metadata": {},
   "outputs": [],
   "source": [
    "df = pd.read_csv(\"forecast_output.csv\") # forecast ouput is the predicted gas price we made in Task 1\n",
    "df[\"Dates\"] = pd.to_datetime(df[\"Dates\"])"
   ]
  },
  {
   "cell_type": "code",
   "execution_count": null,
   "metadata": {},
   "outputs": [],
   "source": []
  }
 ],
 "metadata": {
  "kernelspec": {
   "display_name": "Python 3",
   "language": "python",
   "name": "python3"
  },
  "language_info": {
   "codemirror_mode": {
    "name": "ipython",
    "version": 3
   },
   "file_extension": ".py",
   "mimetype": "text/x-python",
   "name": "python",
   "nbconvert_exporter": "python",
   "pygments_lexer": "ipython3",
   "version": "3.12.8"
  }
 },
 "nbformat": 4,
 "nbformat_minor": 2
}
