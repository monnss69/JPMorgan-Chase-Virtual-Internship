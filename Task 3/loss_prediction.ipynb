{
 "cells": [
  {
   "cell_type": "markdown",
   "metadata": {},
   "source": [
    "# Estimated Loss Calculation using Logistic Regression\n",
    "#### First step, we load the data"
   ]
  },
  {
   "cell_type": "code",
   "execution_count": 60,
   "metadata": {},
   "outputs": [],
   "source": [
    "import pandas as pd\n",
    "import numpy as np"
   ]
  },
  {
   "cell_type": "code",
   "execution_count": 61,
   "metadata": {},
   "outputs": [],
   "source": [
    "df = pd.read_csv('Loan_Data_CSV.csv')\n",
    "loan_status = df['total_debt_outstanding'].values\n",
    "outputs = df['default'].values\n",
    "features = df.drop(['customer_id', 'default'], axis=1).values\n",
    "weights = np.zeros(features.shape[1])\n",
    "bias = 0"
   ]
  },
  {
   "cell_type": "markdown",
   "metadata": {},
   "source": [
    "#### Standardizing features transforms them to a common scale using: \n",
    "$$ x_{standardized} = \\frac{x - \\mu}{\\sigma} $$"
   ]
  },
  {
   "cell_type": "code",
   "execution_count": 62,
   "metadata": {},
   "outputs": [],
   "source": [
    "def rescale(data):\n",
    "    return (data - data.mean(axis=0)) / data.std(axis=0)\n",
    "\n",
    "features = rescale(features)"
   ]
  },
  {
   "cell_type": "markdown",
   "metadata": {},
   "source": [
    "#### Then, we define our `prediction` and `cost function`"
   ]
  },
  {
   "cell_type": "code",
   "execution_count": 63,
   "metadata": {},
   "outputs": [],
   "source": [
    "def sigmoid(x):\n",
    "    return 1 / (1 + np.exp(-x))\n",
    "\n",
    "def predictions(weights, bias, inputs):\n",
    "    return sigmoid(np.dot(inputs, weights) + bias)"
   ]
  },
  {
   "cell_type": "code",
   "execution_count": 64,
   "metadata": {},
   "outputs": [],
   "source": [
    "def cost_function(weights, inputs, outputs):\n",
    "    predictions = sigmoid(np.dot(inputs, weights))\n",
    "    print(predictions)\n",
    "    return -np.mean(outputs * np.log(predictions) + (1 - outputs) * np.log(1 - predictions))"
   ]
  },
  {
   "cell_type": "markdown",
   "metadata": {},
   "source": [
    "#### Using the derivative of the `cost function` above, we can calculate the gradient of each weights and bias, hence using gradient descent to calculate the best params for our logistic regression"
   ]
  },
  {
   "cell_type": "code",
   "execution_count": 65,
   "metadata": {},
   "outputs": [
    {
     "name": "stdout",
     "output_type": "stream",
     "text": [
      "[0.49989323 0.50022532 0.49987791 ... 0.4999864  0.49987716 0.49980898]\n",
      "0.6929184720911541\n",
      "[0.18427588 0.96589284 0.20955549 ... 0.56351078 0.25394885 0.19901989]\n",
      "0.3837800127141726\n",
      "[0.12649755 0.98814214 0.1627092  ... 0.6068239  0.22775393 0.17981914]\n",
      "0.36551958408053176\n",
      "[0.09860228 0.99406124 0.13810331 ... 0.63559076 0.21474521 0.17111878]\n",
      "0.3600347237683505\n",
      "[0.08133544 0.99650149 0.12146896 ... 0.65717624 0.20544796 0.16497969]\n",
      "0.35827032228239125\n"
     ]
    }
   ],
   "source": [
    "def gradient_descent(weights, bias, inputs, outputs, learning_rate, epochs):\n",
    "    for epoch in range(epochs):\n",
    "        predict = predictions(weights, bias, inputs)\n",
    "        \n",
    "        errors = predict - outputs\n",
    "        dj_dw = np.dot(inputs.T, errors) / len(inputs)\n",
    "        dj_db = np.mean(errors)\n",
    "\n",
    "        weights -= learning_rate * dj_dw\n",
    "        bias -= learning_rate * dj_db\n",
    "        if epoch % 10000 == 0:\n",
    "            print(cost_function(weights, inputs, outputs))\n",
    "\n",
    "    return weights, bias\n",
    "\n",
    "weights, bias = gradient_descent(weights, bias, features, outputs, 0.001, 50000)"
   ]
  },
  {
   "cell_type": "markdown",
   "metadata": {},
   "source": [
    "#### After obtaining the weights and bias, we calculate the accuracy of our logistic regression"
   ]
  },
  {
   "cell_type": "code",
   "execution_count": 69,
   "metadata": {},
   "outputs": [
    {
     "name": "stdout",
     "output_type": "stream",
     "text": [
      "Accuracy is 99.59%\n"
     ]
    }
   ],
   "source": [
    "def accuracy(weights, bias, inputs, outputs):\n",
    "    predict = predictions(weights, bias, inputs)\n",
    "    predict = np.round(predict)\n",
    "    return np.mean(1 - (predict - outputs))*100\n",
    "\n",
    "print(f\"Accuracy is {accuracy(weights, bias, features, outputs)}%\")"
   ]
  },
  {
   "cell_type": "markdown",
   "metadata": {},
   "source": [
    "#### The accuracy is 99.6%, which is quite good\n",
    "Now, based on our calculation, we can calculate the estimated loss"
   ]
  },
  {
   "cell_type": "code",
   "execution_count": 67,
   "metadata": {},
   "outputs": [
    {
     "name": "stdout",
     "output_type": "stream",
     "text": [
      "33358621.0\n"
     ]
    }
   ],
   "source": [
    "def calculate_estimated_loss(weights, bias, inputs):\n",
    "    predicts = predictions(weights, bias, inputs)\n",
    "    # Assume that the recovery rate is 10% of the total debt outstanding\n",
    "    estimated_loss = predicts * 0.9 * loan_status\n",
    "    return np.round(np.sum(estimated_loss))\n",
    "    \n",
    "print(calculate_estimated_loss(weights, bias, features))"
   ]
  }
 ],
 "metadata": {
  "kernelspec": {
   "display_name": "Python 3",
   "language": "python",
   "name": "python3"
  },
  "language_info": {
   "codemirror_mode": {
    "name": "ipython",
    "version": 3
   },
   "file_extension": ".py",
   "mimetype": "text/x-python",
   "name": "python",
   "nbconvert_exporter": "python",
   "pygments_lexer": "ipython3",
   "version": "3.12.8"
  }
 },
 "nbformat": 4,
 "nbformat_minor": 2
}
